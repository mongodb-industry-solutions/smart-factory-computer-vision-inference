{
 "cells": [
  {
   "cell_type": "code",
   "execution_count": 123,
   "id": "0cbde67c-1b0f-401b-8733-2e784848a5f9",
   "metadata": {
    "tags": []
   },
   "outputs": [],
   "source": [
    "import os\n",
    "import json \n",
    "import logging\n",
    "from datetime import datetime\n",
    "\n",
    "import boto3\n",
    "import sagemaker\n",
    "from sagemaker import get_execution_role\n",
    "from sagemaker.amazon.amazon_estimator import get_image_uri # get the Docker image which contains the image classif agorithm"
   ]
  },
  {
   "cell_type": "code",
   "execution_count": 124,
   "id": "8d6b62bd-e9ee-4b70-93b6-e27e91f15614",
   "metadata": {
    "tags": []
   },
   "outputs": [],
   "source": [
    "boto3.set_stream_logger(name=\"botocore.credentials\", level=logging.WARNING)"
   ]
  },
  {
   "cell_type": "code",
   "execution_count": 125,
   "id": "2d1c8c54-aee2-4e9b-bc94-0dd94bbe150b",
   "metadata": {
    "tags": []
   },
   "outputs": [
    {
     "name": "stdout",
     "output_type": "stream",
     "text": [
      "eu-west-1\n"
     ]
    }
   ],
   "source": [
    "session = sagemaker.Session()\n",
    "region = session.boto_region_name"
   ]
  },
  {
   "cell_type": "code",
   "execution_count": 126,
   "id": "5f1d3b2a-db39-42e2-a37c-8a5e2ea84592",
   "metadata": {
    "tags": []
   },
   "outputs": [],
   "source": [
    "arn_role = sagemaker.get_execution_role()"
   ]
  },
  {
   "cell_type": "code",
   "execution_count": 127,
   "id": "53cdd90e-4e14-45d1-b3b5-a529a33f77d5",
   "metadata": {
    "tags": []
   },
   "outputs": [],
   "source": [
    "bucket_name = \"smart-factory-sagemaker\"\n",
    "data_path = \"stock-inference\""
   ]
  },
  {
   "cell_type": "code",
   "execution_count": 138,
   "id": "6f493821-9413-4cd9-a119-c1184053b033",
   "metadata": {
    "tags": []
   },
   "outputs": [],
   "source": [
    "nclasses = 3\n",
    "nimgs_train = 16\n",
    "nepochs = 50\n",
    "mini_batch_size = 4"
   ]
  },
  {
   "cell_type": "code",
   "execution_count": 139,
   "id": "d30b9645-a719-4246-8ac6-acf7719dc6fe",
   "metadata": {
    "tags": []
   },
   "outputs": [],
   "source": [
    "train_instance = \"ml.g4dn.xlarge\"\n",
    "job_name_prefix = \"smart-factory-wh-stock-inference\""
   ]
  },
  {
   "cell_type": "code",
   "execution_count": 140,
   "id": "6733c582",
   "metadata": {},
   "outputs": [
    {
     "name": "stderr",
     "output_type": "stream",
     "text": [
      "INFO:sagemaker.image_uris:Defaulting to the only supported framework/algorithm version: 1.\n",
      "INFO:sagemaker.image_uris:Ignoring unnecessary instance type: None.\n"
     ]
    },
    {
     "name": "stdout",
     "output_type": "stream",
     "text": [
      "685385470294.dkr.ecr.eu-west-1.amazonaws.com/image-classification:1\n"
     ]
    }
   ],
   "source": [
    "train_image_uri = sagemaker.image_uris.retrieve(\n",
    "    #### TRY HUGGING FACE AFTER ###\n",
    "    ## IF THE FRAMEWORK IS 3RD PARTY. THE IMAGE SCOPE IS DIFFERENT FOR TRAINING AND INFERENCE ##\n",
    "    framework=\"image-classification\",\n",
    "    region=region,\n",
    "    image_scope=\"training\"\n",
    ")\n",
    "print(train_image_uri)"
   ]
  },
  {
   "cell_type": "code",
   "execution_count": 141,
   "id": "e70dc318",
   "metadata": {},
   "outputs": [],
   "source": [
    "s3_output_path = \"s3://{}/{}/{}\".format(bucket_name, data_path, \"model_output\")"
   ]
  },
  {
   "cell_type": "code",
   "execution_count": 142,
   "id": "e43a0d22",
   "metadata": {},
   "outputs": [],
   "source": [
    "clf_estimator = sagemaker.estimator.Estimator(\n",
    "    image_uri=train_image_uri,\n",
    "    role=arn_role,\n",
    "    instance_count=1,\n",
    "    instance_type=train_instance,\n",
    "    volume_size=50,\n",
    "    max_run=3600,\n",
    "    input_mode=\"File\",\n",
    "    output_path=s3_output_path,\n",
    "    sagemaker_session=session\n",
    ")"
   ]
  },
  {
   "cell_type": "code",
   "execution_count": 143,
   "id": "ec0f7be5",
   "metadata": {},
   "outputs": [],
   "source": [
    "clf_estimator.set_hyperparameters(\n",
    "    num_classes=nclasses,\n",
    "    epochs=nepochs,\n",
    "    num_training_samples=nimgs_train,\n",
    "    mini_batch_size=nimgs_train,\n",
    "    num_layers=18,\n",
    "    use_pretrained_model=1,\n",
    "    multi_label=0\n",
    ")"
   ]
  },
  {
   "cell_type": "code",
   "execution_count": 144,
   "id": "b162df16",
   "metadata": {},
   "outputs": [],
   "source": [
    "s3_training_imgs = \"s3://{}/{}/{}\".format(bucket_name, data_path, \"train_imgs\")\n",
    "s3_valid_imgs = \"s3://{}/{}/{}\".format(bucket_name, data_path, \"valid_imgs\")\n",
    "s3_training_annot = \"s3://{}/{}/{}\".format(bucket_name, data_path, \"train_annots\")\n",
    "s3_valid_annot = \"s3://{}/{}/{}\".format(bucket_name, data_path, \"valid_annots\")\n"
   ]
  },
  {
   "cell_type": "code",
   "execution_count": 145,
   "id": "7c7c2974",
   "metadata": {},
   "outputs": [],
   "source": [
    "train_imgs = sagemaker.inputs.TrainingInput(\n",
    "    s3_training_imgs,\n",
    "    distribution=\"FullyReplicated\",\n",
    "    content_type=\"application/jpeg\",\n",
    "    s3_data_type=\"S3Prefix\"\n",
    ")\n",
    "\n",
    "valid_imgs = sagemaker.inputs.TrainingInput(\n",
    "    s3_valid_imgs,\n",
    "    distribution=\"FullyReplicated\",\n",
    "    content_type=\"application/jpeg\",\n",
    "    s3_data_type=\"S3Prefix\"\n",
    ")\n",
    "\n",
    "train_annot = sagemaker.inputs.TrainingInput(\n",
    "    s3_training_annot,\n",
    "    distribution=\"FullyReplicated\",\n",
    "    content_type=\"application/jpeg\",\n",
    "    s3_data_type=\"S3Prefix\"\n",
    ")\n",
    "\n",
    "valid_annot = sagemaker.inputs.TrainingInput(\n",
    "    s3_valid_annot,\n",
    "    distribution=\"FullyReplicated\",\n",
    "    content_type=\"application/jpeg\",\n",
    "    s3_data_type=\"S3Prefix\"\n",
    ")\n",
    "\n",
    "\n",
    "data_channels = {\n",
    "    \"train\": train_imgs,\n",
    "    \"validation\": valid_imgs,\n",
    "    \"train_lst\": train_annot,\n",
    "    \"validation_lst\": valid_annot\n",
    "}"
   ]
  },
  {
   "cell_type": "code",
   "execution_count": 146,
   "id": "d6d2af36",
   "metadata": {
    "scrolled": true
   },
   "outputs": [
    {
     "name": "stderr",
     "output_type": "stream",
     "text": [
      "INFO:sagemaker:Creating training-job with name: smart-factory-wh-stock-inference-2023-05-07-14-51-38\n"
     ]
    },
    {
     "name": "stdout",
     "output_type": "stream",
     "text": [
      "smart-factory-wh-stock-inference-2023-05-07-14-51-38\n",
      "2023-05-07 14:51:38 Starting - Starting the training job...\n",
      "2023-05-07 14:51:53 Starting - Preparing the instances for training......\n",
      "2023-05-07 14:52:48 Downloading - Downloading input data...\n",
      "2023-05-07 14:53:13 Training - Downloading the training image............\n",
      "2023-05-07 14:55:13 Training - Training image download completed. Training in progress.\u001b[34mDocker entrypoint called with argument(s): train\u001b[0m\n",
      "\u001b[34mRunning default environment configuration script\u001b[0m\n",
      "\u001b[34mNvidia gpu devices, drivers and cuda toolkit versions (only available on hosts with GPU):\u001b[0m\n",
      "\u001b[34mSun May  7 14:55:24 2023       \u001b[0m\n",
      "\u001b[34m+-----------------------------------------------------------------------------+\u001b[0m\n",
      "\u001b[34m| NVIDIA-SMI 525.85.12    Driver Version: 525.85.12    CUDA Version: 12.0     |\u001b[0m\n",
      "\u001b[34m|-------------------------------+----------------------+----------------------+\u001b[0m\n",
      "\u001b[34m| GPU  Name        Persistence-M| Bus-Id        Disp.A | Volatile Uncorr. ECC |\u001b[0m\n",
      "\u001b[34m| Fan  Temp  Perf  Pwr:Usage/Cap|         Memory-Usage | GPU-Util  Compute M. |\u001b[0m\n",
      "\u001b[34m|                               |                      |               MIG M. |\u001b[0m\n",
      "\u001b[34m|===============================+======================+======================|\u001b[0m\n",
      "\u001b[34m|   0  Tesla T4            On   | 00000000:00:1E.0 Off |                    0 |\u001b[0m\n",
      "\u001b[34m| N/A   37C    P8     9W /  70W |      0MiB / 15360MiB |      0%      Default |\u001b[0m\n",
      "\u001b[34m|                               |                      |                  N/A |\u001b[0m\n",
      "\u001b[34m+-------------------------------+----------------------+----------------------+\n",
      "                                                                               \u001b[0m\n",
      "\u001b[34m+-----------------------------------------------------------------------------+\u001b[0m\n",
      "\u001b[34m| Processes:                                                                  |\u001b[0m\n",
      "\u001b[34m|  GPU   GI   CI        PID   Type   Process name                  GPU Memory |\u001b[0m\n",
      "\u001b[34m|        ID   ID                                                   Usage      |\u001b[0m\n",
      "\u001b[34m|=============================================================================|\u001b[0m\n",
      "\u001b[34m|  No running processes found                                                 |\u001b[0m\n",
      "\u001b[34m+-----------------------------------------------------------------------------+\u001b[0m\n",
      "\u001b[34mChecking for nvidia driver and cuda compatibility.\u001b[0m\n",
      "\u001b[34mCUDA Compatibility driver provided.\u001b[0m\n",
      "\u001b[34mProceeding with compatibility check between driver, cuda-toolkit and cuda-compat.\u001b[0m\n",
      "\u001b[34mDetected cuda-toolkit version: 11.1.\u001b[0m\n",
      "\u001b[34mDetected cuda-compat version: 455.32.00.\u001b[0m\n",
      "\u001b[34mDetected Nvidia driver version: 525.85.12.\u001b[0m\n",
      "\u001b[34mNvidia driver compatible with cuda-toolkit. Disabling cuda-compat.\u001b[0m\n",
      "\u001b[34m[05/07/2023 14:55:27 INFO 139676819011392] Reading default configuration from /opt/amazon/lib/python3.7/site-packages/image_classification/default-input.json: {'use_pretrained_model': 0, 'num_layers': 152, 'epochs': 30, 'learning_rate': 0.1, 'lr_scheduler_factor': 0.1, 'optimizer': 'sgd', 'momentum': 0, 'weight_decay': 0.0001, 'beta_1': 0.9, 'beta_2': 0.999, 'eps': 1e-08, 'gamma': 0.9, 'mini_batch_size': 32, 'image_shape': '3,224,224', 'precision_dtype': 'float32'}\u001b[0m\n",
      "\u001b[34m[05/07/2023 14:55:27 INFO 139676819011392] Merging with provided configuration from /opt/ml/input/config/hyperparameters.json: {'epochs': '50', 'mini_batch_size': '16', 'multi_label': '0', 'num_classes': '3', 'num_layers': '18', 'num_training_samples': '16', 'use_pretrained_model': '1'}\u001b[0m\n",
      "\u001b[34m[05/07/2023 14:55:27 INFO 139676819011392] Final configuration: {'use_pretrained_model': '1', 'num_layers': '18', 'epochs': '50', 'learning_rate': 0.1, 'lr_scheduler_factor': 0.1, 'optimizer': 'sgd', 'momentum': 0, 'weight_decay': 0.0001, 'beta_1': 0.9, 'beta_2': 0.999, 'eps': 1e-08, 'gamma': 0.9, 'mini_batch_size': '16', 'image_shape': '3,224,224', 'precision_dtype': 'float32', 'multi_label': '0', 'num_classes': '3', 'num_training_samples': '16'}\u001b[0m\n",
      "\u001b[34m[05/07/2023 14:55:27 INFO 139676819011392] Searching for .lst files in /opt/ml/input/data/train_lst.\u001b[0m\n",
      "\u001b[34m[05/07/2023 14:55:27 INFO 139676819011392] Creating record files for train.lst\u001b[0m\n",
      "\u001b[34m[05/07/2023 14:55:27 INFO 139676819011392] Done creating record files...\u001b[0m\n",
      "\u001b[34m[05/07/2023 14:55:27 INFO 139676819011392] Searching for .lst files in /opt/ml/input/data/validation_lst.\u001b[0m\n",
      "\u001b[34m[05/07/2023 14:55:27 INFO 139676819011392] Creating record files for valid.lst\u001b[0m\n",
      "\u001b[34m[05/07/2023 14:55:27 INFO 139676819011392] Done creating record files...\u001b[0m\n",
      "\u001b[34m[05/07/2023 14:55:27 INFO 139676819011392] use_pretrained_model: 1\u001b[0m\n",
      "\u001b[34m[05/07/2023 14:55:27 INFO 139676819011392] multi_label: 0\u001b[0m\n",
      "\u001b[34m[05/07/2023 14:55:27 INFO 139676819011392] Using pretrained model for initializing weights and transfer learning.\u001b[0m\n",
      "\u001b[34m[05/07/2023 14:55:27 INFO 139676819011392] ---- Parameters ----\u001b[0m\n",
      "\u001b[34m[05/07/2023 14:55:27 INFO 139676819011392] num_layers: 18\u001b[0m\n",
      "\u001b[34m[05/07/2023 14:55:27 INFO 139676819011392] data type: <class 'numpy.float32'>\u001b[0m\n",
      "\u001b[34m[05/07/2023 14:55:27 INFO 139676819011392] epochs: 50\u001b[0m\n",
      "\u001b[34m[05/07/2023 14:55:27 INFO 139676819011392] optimizer: sgd\u001b[0m\n",
      "\u001b[34m[05/07/2023 14:55:27 INFO 139676819011392] momentum: 0.9\u001b[0m\n",
      "\u001b[34m[05/07/2023 14:55:27 INFO 139676819011392] weight_decay: 0.0001\u001b[0m\n",
      "\u001b[34m[05/07/2023 14:55:27 INFO 139676819011392] learning_rate: 0.1\u001b[0m\n",
      "\u001b[34m[05/07/2023 14:55:27 INFO 139676819011392] num_training_samples: 16\u001b[0m\n",
      "\u001b[34m[05/07/2023 14:55:27 INFO 139676819011392] mini_batch_size: 16\u001b[0m\n",
      "\u001b[34m[05/07/2023 14:55:27 INFO 139676819011392] image_shape: 3,224,224\u001b[0m\n",
      "\u001b[34m[05/07/2023 14:55:27 INFO 139676819011392] num_classes: 3\u001b[0m\n",
      "\u001b[34m[05/07/2023 14:55:27 INFO 139676819011392] augmentation_type: None\u001b[0m\n",
      "\u001b[34m[05/07/2023 14:55:27 INFO 139676819011392] kv_store: device\u001b[0m\n",
      "\u001b[34m[05/07/2023 14:55:27 INFO 139676819011392] checkpoint_frequency not set, will store the best model\u001b[0m\n",
      "\u001b[34m[05/07/2023 14:55:27 INFO 139676819011392] --------------------\u001b[0m\n",
      "\u001b[34m[14:55:27] /opt/brazil-pkg-cache/packages/AIAlgorithmsMXNet/AIAlgorithmsMXNet-1.4.x_ecl_Cuda_11.1.x.191.0/AL2_x86_64/generic-flavor/src/src/nnvm/legacy_json_util.cc:209: Loading symbol saved by previous version v0.8.0. Attempting to upgrade...\u001b[0m\n",
      "\u001b[34m[14:55:27] /opt/brazil-pkg-cache/packages/AIAlgorithmsMXNet/AIAlgorithmsMXNet-1.4.x_ecl_Cuda_11.1.x.191.0/AL2_x86_64/generic-flavor/src/src/nnvm/legacy_json_util.cc:217: Symbol successfully upgraded!\u001b[0m\n",
      "\u001b[34m[05/07/2023 14:55:27 INFO 139676819011392] Setting number of threads: 3\u001b[0m\n",
      "\u001b[34m[14:55:31] /opt/brazil-pkg-cache/packages/AIAlgorithmsMXNet/AIAlgorithmsMXNet-1.4.x_ecl_Cuda_11.1.x.191.0/AL2_x86_64/generic-flavor/src/src/operator/nn/./cudnn/./cudnn_algoreg-inl.h:97: Running performance tests to find the best convolution algorithm, this can take a while... (setting env variable MXNET_CUDNN_AUTOTUNE_DEFAULT to 0 to disable)\u001b[0m\n",
      "\u001b[34m[05/07/2023 14:55:32 INFO 139676819011392] Epoch[0] Train-accuracy=0.437500\u001b[0m\n",
      "\u001b[34m[05/07/2023 14:55:32 INFO 139676819011392] Epoch[0] Time cost=0.603\u001b[0m\n",
      "\u001b[34m[05/07/2023 14:55:32 INFO 139676819011392] Epoch[0] Validation-accuracy=nan\u001b[0m\n",
      "\u001b[34m[05/07/2023 14:55:32 INFO 139676819011392] Epoch[1] Train-accuracy=0.500000\u001b[0m\n",
      "\u001b[34m[05/07/2023 14:55:32 INFO 139676819011392] Epoch[1] Time cost=0.049\u001b[0m\n",
      "\u001b[34m[05/07/2023 14:55:32 INFO 139676819011392] Epoch[1] Validation-accuracy=0.500000\u001b[0m\n",
      "\u001b[34m[05/07/2023 14:55:32 INFO 139676819011392] Storing the best model with validation accuracy: 0.500000\u001b[0m\n",
      "\u001b[34m[05/07/2023 14:55:32 INFO 139676819011392] Saved checkpoint to \"/opt/ml/model/image-classification-0002.params\"\u001b[0m\n",
      "\u001b[34m[05/07/2023 14:55:32 INFO 139676819011392] Epoch[2] Train-accuracy=0.750000\u001b[0m\n",
      "\u001b[34m[05/07/2023 14:55:32 INFO 139676819011392] Epoch[2] Time cost=0.049\u001b[0m\n",
      "\u001b[34m[05/07/2023 14:55:32 INFO 139676819011392] Epoch[2] Validation-accuracy=nan\u001b[0m\n",
      "\u001b[34m[05/07/2023 14:55:33 INFO 139676819011392] Epoch[3] Train-accuracy=0.750000\u001b[0m\n",
      "\u001b[34m[05/07/2023 14:55:33 INFO 139676819011392] Epoch[3] Time cost=0.045\u001b[0m\n",
      "\u001b[34m[05/07/2023 14:55:33 INFO 139676819011392] Epoch[3] Validation-accuracy=0.500000\u001b[0m\n",
      "\u001b[34m[05/07/2023 14:55:33 INFO 139676819011392] Epoch[4] Train-accuracy=1.000000\u001b[0m\n",
      "\u001b[34m[05/07/2023 14:55:33 INFO 139676819011392] Epoch[4] Time cost=0.046\u001b[0m\n",
      "\u001b[34m[05/07/2023 14:55:33 INFO 139676819011392] Epoch[4] Validation-accuracy=nan\u001b[0m\n",
      "\u001b[34m[05/07/2023 14:55:33 INFO 139676819011392] Epoch[5] Train-accuracy=1.000000\u001b[0m\n",
      "\u001b[34m[05/07/2023 14:55:33 INFO 139676819011392] Epoch[5] Time cost=0.046\u001b[0m\n",
      "\u001b[34m[05/07/2023 14:55:33 INFO 139676819011392] Epoch[5] Validation-accuracy=0.500000\u001b[0m\n",
      "\u001b[34m[05/07/2023 14:55:33 INFO 139676819011392] Epoch[6] Train-accuracy=0.875000\u001b[0m\n",
      "\u001b[34m[05/07/2023 14:55:33 INFO 139676819011392] Epoch[6] Time cost=0.058\u001b[0m\n",
      "\u001b[34m[05/07/2023 14:55:33 INFO 139676819011392] Epoch[6] Validation-accuracy=nan\u001b[0m\n",
      "\u001b[34m[05/07/2023 14:55:34 INFO 139676819011392] Epoch[7] Train-accuracy=1.000000\u001b[0m\n",
      "\u001b[34m[05/07/2023 14:55:34 INFO 139676819011392] Epoch[7] Time cost=0.053\u001b[0m\n",
      "\u001b[34m[05/07/2023 14:55:34 INFO 139676819011392] Epoch[7] Validation-accuracy=0.500000\u001b[0m\n",
      "\u001b[34m[05/07/2023 14:55:34 INFO 139676819011392] Epoch[8] Train-accuracy=1.000000\u001b[0m\n",
      "\u001b[34m[05/07/2023 14:55:34 INFO 139676819011392] Epoch[8] Time cost=0.053\u001b[0m\n",
      "\u001b[34m[05/07/2023 14:55:34 INFO 139676819011392] Epoch[8] Validation-accuracy=nan\u001b[0m\n",
      "\u001b[34m[05/07/2023 14:55:34 INFO 139676819011392] Epoch[9] Train-accuracy=1.000000\u001b[0m\n",
      "\u001b[34m[05/07/2023 14:55:34 INFO 139676819011392] Epoch[9] Time cost=0.047\u001b[0m\n",
      "\u001b[34m[05/07/2023 14:55:35 INFO 139676819011392] Epoch[9] Validation-accuracy=0.500000\u001b[0m\n",
      "\u001b[34m[05/07/2023 14:55:35 INFO 139676819011392] Epoch[10] Train-accuracy=1.000000\u001b[0m\n",
      "\u001b[34m[05/07/2023 14:55:35 INFO 139676819011392] Epoch[10] Time cost=0.055\u001b[0m\n",
      "\u001b[34m[05/07/2023 14:55:35 INFO 139676819011392] Epoch[10] Validation-accuracy=nan\u001b[0m\n",
      "\u001b[34m[05/07/2023 14:55:35 INFO 139676819011392] Epoch[11] Train-accuracy=1.000000\u001b[0m\n",
      "\u001b[34m[05/07/2023 14:55:35 INFO 139676819011392] Epoch[11] Time cost=0.050\u001b[0m\n",
      "\u001b[34m[05/07/2023 14:55:35 INFO 139676819011392] Epoch[11] Validation-accuracy=0.500000\u001b[0m\n",
      "\u001b[34m[05/07/2023 14:55:35 INFO 139676819011392] Epoch[12] Train-accuracy=1.000000\u001b[0m\n",
      "\u001b[34m[05/07/2023 14:55:35 INFO 139676819011392] Epoch[12] Time cost=0.045\u001b[0m\n",
      "\u001b[34m[05/07/2023 14:55:35 INFO 139676819011392] Epoch[12] Validation-accuracy=nan\u001b[0m\n",
      "\u001b[34m[05/07/2023 14:55:36 INFO 139676819011392] Epoch[13] Train-accuracy=1.000000\u001b[0m\n",
      "\u001b[34m[05/07/2023 14:55:36 INFO 139676819011392] Epoch[13] Time cost=0.046\u001b[0m\n",
      "\u001b[34m[05/07/2023 14:55:36 INFO 139676819011392] Epoch[13] Validation-accuracy=0.500000\u001b[0m\n",
      "\u001b[34m[05/07/2023 14:55:36 INFO 139676819011392] Epoch[14] Train-accuracy=1.000000\u001b[0m\n",
      "\u001b[34m[05/07/2023 14:55:36 INFO 139676819011392] Epoch[14] Time cost=0.045\u001b[0m\n",
      "\u001b[34m[05/07/2023 14:55:36 INFO 139676819011392] Epoch[14] Validation-accuracy=nan\u001b[0m\n"
     ]
    },
    {
     "name": "stdout",
     "output_type": "stream",
     "text": [
      "\u001b[34m[05/07/2023 14:55:36 INFO 139676819011392] Epoch[15] Train-accuracy=1.000000\u001b[0m\n",
      "\u001b[34m[05/07/2023 14:55:36 INFO 139676819011392] Epoch[15] Time cost=0.048\u001b[0m\n",
      "\u001b[34m[05/07/2023 14:55:36 INFO 139676819011392] Epoch[15] Validation-accuracy=0.500000\u001b[0m\n",
      "\u001b[34m[05/07/2023 14:55:36 INFO 139676819011392] Epoch[16] Train-accuracy=1.000000\u001b[0m\n",
      "\u001b[34m[05/07/2023 14:55:36 INFO 139676819011392] Epoch[16] Time cost=0.046\u001b[0m\n",
      "\u001b[34m[05/07/2023 14:55:36 INFO 139676819011392] Epoch[16] Validation-accuracy=nan\u001b[0m\n",
      "\u001b[34m[05/07/2023 14:55:37 INFO 139676819011392] Epoch[17] Train-accuracy=1.000000\u001b[0m\n",
      "\u001b[34m[05/07/2023 14:55:37 INFO 139676819011392] Epoch[17] Time cost=0.045\u001b[0m\n",
      "\u001b[34m[05/07/2023 14:55:37 INFO 139676819011392] Epoch[17] Validation-accuracy=0.500000\u001b[0m\n",
      "\u001b[34m[05/07/2023 14:55:37 INFO 139676819011392] Epoch[18] Train-accuracy=1.000000\u001b[0m\n",
      "\u001b[34m[05/07/2023 14:55:37 INFO 139676819011392] Epoch[18] Time cost=0.045\u001b[0m\n",
      "\u001b[34m[05/07/2023 14:55:37 INFO 139676819011392] Epoch[18] Validation-accuracy=nan\u001b[0m\n",
      "\u001b[34m[05/07/2023 14:55:37 INFO 139676819011392] Epoch[19] Train-accuracy=1.000000\u001b[0m\n",
      "\u001b[34m[05/07/2023 14:55:37 INFO 139676819011392] Epoch[19] Time cost=0.045\u001b[0m\n",
      "\u001b[34m[05/07/2023 14:55:37 INFO 139676819011392] Epoch[19] Validation-accuracy=0.500000\u001b[0m\n",
      "\u001b[34m[05/07/2023 14:55:38 INFO 139676819011392] Epoch[20] Train-accuracy=1.000000\u001b[0m\n",
      "\u001b[34m[05/07/2023 14:55:38 INFO 139676819011392] Epoch[20] Time cost=0.045\u001b[0m\n",
      "\u001b[34m[05/07/2023 14:55:38 INFO 139676819011392] Epoch[20] Validation-accuracy=nan\u001b[0m\n",
      "\u001b[34m[05/07/2023 14:55:38 INFO 139676819011392] Epoch[21] Train-accuracy=1.000000\u001b[0m\n",
      "\u001b[34m[05/07/2023 14:55:38 INFO 139676819011392] Epoch[21] Time cost=0.046\u001b[0m\n",
      "\u001b[34m[05/07/2023 14:55:38 INFO 139676819011392] Epoch[21] Validation-accuracy=0.500000\u001b[0m\n",
      "\u001b[34m[05/07/2023 14:55:38 INFO 139676819011392] Epoch[22] Train-accuracy=1.000000\u001b[0m\n",
      "\u001b[34m[05/07/2023 14:55:38 INFO 139676819011392] Epoch[22] Time cost=0.046\u001b[0m\n",
      "\u001b[34m[05/07/2023 14:55:38 INFO 139676819011392] Epoch[22] Validation-accuracy=nan\u001b[0m\n",
      "\u001b[34m[05/07/2023 14:55:38 INFO 139676819011392] Epoch[23] Train-accuracy=1.000000\u001b[0m\n",
      "\u001b[34m[05/07/2023 14:55:38 INFO 139676819011392] Epoch[23] Time cost=0.046\u001b[0m\n",
      "\u001b[34m[05/07/2023 14:55:38 INFO 139676819011392] Epoch[23] Validation-accuracy=0.500000\u001b[0m\n",
      "\u001b[34m[05/07/2023 14:55:39 INFO 139676819011392] Epoch[24] Train-accuracy=1.000000\u001b[0m\n",
      "\u001b[34m[05/07/2023 14:55:39 INFO 139676819011392] Epoch[24] Time cost=0.045\u001b[0m\n",
      "\u001b[34m[05/07/2023 14:55:39 INFO 139676819011392] Epoch[24] Validation-accuracy=nan\u001b[0m\n",
      "\u001b[34m[05/07/2023 14:55:39 INFO 139676819011392] Epoch[25] Train-accuracy=1.000000\u001b[0m\n",
      "\u001b[34m[05/07/2023 14:55:39 INFO 139676819011392] Epoch[25] Time cost=0.046\u001b[0m\n",
      "\u001b[34m[05/07/2023 14:55:39 INFO 139676819011392] Epoch[25] Validation-accuracy=0.500000\u001b[0m\n",
      "\u001b[34m[05/07/2023 14:55:39 INFO 139676819011392] Epoch[26] Train-accuracy=1.000000\u001b[0m\n",
      "\u001b[34m[05/07/2023 14:55:39 INFO 139676819011392] Epoch[26] Time cost=0.045\u001b[0m\n",
      "\u001b[34m[05/07/2023 14:55:39 INFO 139676819011392] Epoch[26] Validation-accuracy=nan\u001b[0m\n",
      "\u001b[34m[05/07/2023 14:55:39 INFO 139676819011392] Epoch[27] Train-accuracy=1.000000\u001b[0m\n",
      "\u001b[34m[05/07/2023 14:55:39 INFO 139676819011392] Epoch[27] Time cost=0.045\u001b[0m\n",
      "\u001b[34m[05/07/2023 14:55:39 INFO 139676819011392] Epoch[27] Validation-accuracy=0.500000\u001b[0m\n",
      "\u001b[34m[05/07/2023 14:55:40 INFO 139676819011392] Epoch[28] Train-accuracy=1.000000\u001b[0m\n",
      "\u001b[34m[05/07/2023 14:55:40 INFO 139676819011392] Epoch[28] Time cost=0.046\u001b[0m\n",
      "\u001b[34m[05/07/2023 14:55:40 INFO 139676819011392] Epoch[28] Validation-accuracy=nan\u001b[0m\n",
      "\u001b[34m[05/07/2023 14:55:40 INFO 139676819011392] Epoch[29] Train-accuracy=1.000000\u001b[0m\n",
      "\u001b[34m[05/07/2023 14:55:40 INFO 139676819011392] Epoch[29] Time cost=0.048\u001b[0m\n",
      "\u001b[34m[05/07/2023 14:55:40 INFO 139676819011392] Epoch[29] Validation-accuracy=0.500000\u001b[0m\n",
      "\u001b[34m[05/07/2023 14:55:40 INFO 139676819011392] Epoch[30] Train-accuracy=1.000000\u001b[0m\n",
      "\u001b[34m[05/07/2023 14:55:40 INFO 139676819011392] Epoch[30] Time cost=0.047\u001b[0m\n",
      "\u001b[34m[05/07/2023 14:55:40 INFO 139676819011392] Epoch[30] Validation-accuracy=nan\u001b[0m\n",
      "\u001b[34m[05/07/2023 14:55:40 INFO 139676819011392] Epoch[31] Train-accuracy=1.000000\u001b[0m\n",
      "\u001b[34m[05/07/2023 14:55:40 INFO 139676819011392] Epoch[31] Time cost=0.046\u001b[0m\n",
      "\u001b[34m[05/07/2023 14:55:41 INFO 139676819011392] Epoch[31] Validation-accuracy=0.500000\u001b[0m\n",
      "\u001b[34m[05/07/2023 14:55:41 INFO 139676819011392] Epoch[32] Train-accuracy=1.000000\u001b[0m\n",
      "\u001b[34m[05/07/2023 14:55:41 INFO 139676819011392] Epoch[32] Time cost=0.047\u001b[0m\n",
      "\u001b[34m[05/07/2023 14:55:41 INFO 139676819011392] Epoch[32] Validation-accuracy=nan\u001b[0m\n",
      "\u001b[34m[05/07/2023 14:55:41 INFO 139676819011392] Epoch[33] Train-accuracy=1.000000\u001b[0m\n",
      "\u001b[34m[05/07/2023 14:55:41 INFO 139676819011392] Epoch[33] Time cost=0.045\u001b[0m\n",
      "\u001b[34m[05/07/2023 14:55:41 INFO 139676819011392] Epoch[33] Validation-accuracy=0.500000\u001b[0m\n",
      "\u001b[34m[05/07/2023 14:55:41 INFO 139676819011392] Epoch[34] Train-accuracy=1.000000\u001b[0m\n",
      "\u001b[34m[05/07/2023 14:55:41 INFO 139676819011392] Epoch[34] Time cost=0.045\u001b[0m\n",
      "\u001b[34m[05/07/2023 14:55:41 INFO 139676819011392] Epoch[34] Validation-accuracy=nan\u001b[0m\n",
      "\u001b[34m[05/07/2023 14:55:42 INFO 139676819011392] Epoch[35] Train-accuracy=1.000000\u001b[0m\n",
      "\u001b[34m[05/07/2023 14:55:42 INFO 139676819011392] Epoch[35] Time cost=0.045\u001b[0m\n",
      "\u001b[34m[05/07/2023 14:55:42 INFO 139676819011392] Epoch[35] Validation-accuracy=0.500000\u001b[0m\n",
      "\u001b[34m[05/07/2023 14:55:42 INFO 139676819011392] Epoch[36] Train-accuracy=1.000000\u001b[0m\n",
      "\u001b[34m[05/07/2023 14:55:42 INFO 139676819011392] Epoch[36] Time cost=0.047\u001b[0m\n",
      "\u001b[34m[05/07/2023 14:55:42 INFO 139676819011392] Epoch[36] Validation-accuracy=nan\u001b[0m\n",
      "\u001b[34m[05/07/2023 14:55:42 INFO 139676819011392] Epoch[37] Train-accuracy=1.000000\u001b[0m\n",
      "\u001b[34m[05/07/2023 14:55:42 INFO 139676819011392] Epoch[37] Time cost=0.046\u001b[0m\n",
      "\u001b[34m[05/07/2023 14:55:42 INFO 139676819011392] Epoch[37] Validation-accuracy=0.500000\u001b[0m\n",
      "\u001b[34m[05/07/2023 14:55:42 INFO 139676819011392] Epoch[38] Train-accuracy=1.000000\u001b[0m\n",
      "\u001b[34m[05/07/2023 14:55:42 INFO 139676819011392] Epoch[38] Time cost=0.049\u001b[0m\n",
      "\u001b[34m[05/07/2023 14:55:42 INFO 139676819011392] Epoch[38] Validation-accuracy=nan\u001b[0m\n",
      "\u001b[34m[05/07/2023 14:55:43 INFO 139676819011392] Epoch[39] Train-accuracy=1.000000\u001b[0m\n",
      "\u001b[34m[05/07/2023 14:55:43 INFO 139676819011392] Epoch[39] Time cost=0.045\u001b[0m\n",
      "\u001b[34m[05/07/2023 14:55:43 INFO 139676819011392] Epoch[39] Validation-accuracy=0.500000\u001b[0m\n",
      "\u001b[34m[05/07/2023 14:55:43 INFO 139676819011392] Epoch[40] Train-accuracy=1.000000\u001b[0m\n",
      "\u001b[34m[05/07/2023 14:55:43 INFO 139676819011392] Epoch[40] Time cost=0.045\u001b[0m\n",
      "\u001b[34m[05/07/2023 14:55:43 INFO 139676819011392] Epoch[40] Validation-accuracy=nan\u001b[0m\n",
      "\u001b[34m[05/07/2023 14:55:43 INFO 139676819011392] Epoch[41] Train-accuracy=1.000000\u001b[0m\n",
      "\u001b[34m[05/07/2023 14:55:43 INFO 139676819011392] Epoch[41] Time cost=0.046\u001b[0m\n",
      "\u001b[34m[05/07/2023 14:55:43 INFO 139676819011392] Epoch[41] Validation-accuracy=0.500000\u001b[0m\n",
      "\u001b[34m[05/07/2023 14:55:43 INFO 139676819011392] Epoch[42] Train-accuracy=1.000000\u001b[0m\n",
      "\u001b[34m[05/07/2023 14:55:43 INFO 139676819011392] Epoch[42] Time cost=0.046\u001b[0m\n",
      "\u001b[34m[05/07/2023 14:55:43 INFO 139676819011392] Epoch[42] Validation-accuracy=nan\u001b[0m\n",
      "\u001b[34m[05/07/2023 14:55:44 INFO 139676819011392] Epoch[43] Train-accuracy=1.000000\u001b[0m\n",
      "\u001b[34m[05/07/2023 14:55:44 INFO 139676819011392] Epoch[43] Time cost=0.047\u001b[0m\n",
      "\u001b[34m[05/07/2023 14:55:44 INFO 139676819011392] Epoch[43] Validation-accuracy=0.500000\u001b[0m\n",
      "\u001b[34m[05/07/2023 14:55:44 INFO 139676819011392] Epoch[44] Train-accuracy=1.000000\u001b[0m\n",
      "\u001b[34m[05/07/2023 14:55:44 INFO 139676819011392] Epoch[44] Time cost=0.048\u001b[0m\n",
      "\u001b[34m[05/07/2023 14:55:44 INFO 139676819011392] Epoch[44] Validation-accuracy=nan\u001b[0m\n",
      "\u001b[34m[05/07/2023 14:55:44 INFO 139676819011392] Epoch[45] Train-accuracy=1.000000\u001b[0m\n",
      "\u001b[34m[05/07/2023 14:55:44 INFO 139676819011392] Epoch[45] Time cost=0.046\u001b[0m\n",
      "\u001b[34m[05/07/2023 14:55:44 INFO 139676819011392] Epoch[45] Validation-accuracy=0.500000\u001b[0m\n",
      "\u001b[34m[05/07/2023 14:55:45 INFO 139676819011392] Epoch[46] Train-accuracy=1.000000\u001b[0m\n",
      "\u001b[34m[05/07/2023 14:55:45 INFO 139676819011392] Epoch[46] Time cost=0.045\u001b[0m\n",
      "\u001b[34m[05/07/2023 14:55:45 INFO 139676819011392] Epoch[46] Validation-accuracy=nan\u001b[0m\n",
      "\u001b[34m[05/07/2023 14:55:45 INFO 139676819011392] Epoch[47] Train-accuracy=1.000000\u001b[0m\n",
      "\u001b[34m[05/07/2023 14:55:45 INFO 139676819011392] Epoch[47] Time cost=0.046\u001b[0m\n",
      "\u001b[34m[05/07/2023 14:55:45 INFO 139676819011392] Epoch[47] Validation-accuracy=0.500000\u001b[0m\n",
      "\u001b[34m[05/07/2023 14:55:45 INFO 139676819011392] Epoch[48] Train-accuracy=1.000000\u001b[0m\n",
      "\u001b[34m[05/07/2023 14:55:45 INFO 139676819011392] Epoch[48] Time cost=0.046\u001b[0m\n",
      "\u001b[34m[05/07/2023 14:55:45 INFO 139676819011392] Epoch[48] Validation-accuracy=nan\u001b[0m\n",
      "\u001b[34m[05/07/2023 14:55:45 INFO 139676819011392] Epoch[49] Train-accuracy=1.000000\u001b[0m\n",
      "\u001b[34m[05/07/2023 14:55:45 INFO 139676819011392] Epoch[49] Time cost=0.045\u001b[0m\n",
      "\u001b[34m[05/07/2023 14:55:45 INFO 139676819011392] Epoch[49] Validation-accuracy=0.500000\u001b[0m\n"
     ]
    },
    {
     "name": "stdout",
     "output_type": "stream",
     "text": [
      "\n",
      "2023-05-07 14:56:05 Uploading - Uploading generated training model\n",
      "2023-05-07 14:56:05 Completed - Training job completed\n",
      "Training seconds: 197\n",
      "Billable seconds: 197\n"
     ]
    }
   ],
   "source": [
    "timestamp = (\n",
    "    str(datetime.now().replace(microsecond=0)).replace(\" \", \"-\").replace(\":\", \"-\")\n",
    ")\n",
    "job_name = job_name_prefix + \"-\" +timestamp\n",
    "print(job_name)\n",
    "clf_estimator.fit(inputs=data_channels, logs=True, job_name=job_name)"
   ]
  },
  {
   "cell_type": "code",
   "execution_count": null,
   "id": "83c86d69",
   "metadata": {},
   "outputs": [],
   "source": []
  },
  {
   "cell_type": "code",
   "execution_count": 150,
   "id": "4aefd56f",
   "metadata": {},
   "outputs": [],
   "source": [
    "infer_instance_type = \"ml.t2.medium\"\n",
    "model_name = job_name\n",
    "endpoint_name = \"smart-factory-wh-stock-inference\""
   ]
  },
  {
   "cell_type": "code",
   "execution_count": 151,
   "id": "061231c8",
   "metadata": {},
   "outputs": [
    {
     "name": "stderr",
     "output_type": "stream",
     "text": [
      "INFO:sagemaker:Creating model with name: smart-factory-wh-stock-inference-2023-05-07-14-51-38\n",
      "WARNING:sagemaker:Using already existing model: smart-factory-wh-stock-inference-2023-05-07-14-51-38\n",
      "INFO:sagemaker:Creating endpoint-config with name smart-factory-wh-stock-inference\n",
      "INFO:sagemaker:Creating endpoint with name smart-factory-wh-stock-inference\n"
     ]
    },
    {
     "name": "stdout",
     "output_type": "stream",
     "text": [
      "-----------------------!"
     ]
    }
   ],
   "source": [
    "clf_predictor = clf_estimator.deploy(\n",
    "    initial_instance_count=1,\n",
    "    instance_type=infer_instance_type,\n",
    "    endpoint_name=endpoint_name,\n",
    "    model_name=model_name\n",
    ")"
   ]
  },
  {
   "cell_type": "code",
   "execution_count": null,
   "id": "8b75a90d",
   "metadata": {},
   "outputs": [],
   "source": []
  },
  {
   "cell_type": "code",
   "execution_count": null,
   "id": "0c4e0bda",
   "metadata": {},
   "outputs": [],
   "source": [
    "sgmkr_runtime = boto3.client(\"runtime.sagemaker\")"
   ]
  }
 ],
 "metadata": {
  "kernelspec": {
   "display_name": "conda_amazonei_pytorch_latest_p37",
   "language": "python",
   "name": "conda_amazonei_pytorch_latest_p37"
  },
  "language_info": {
   "codemirror_mode": {
    "name": "ipython",
    "version": 3
   },
   "file_extension": ".py",
   "mimetype": "text/x-python",
   "name": "python",
   "nbconvert_exporter": "python",
   "pygments_lexer": "ipython3",
   "version": "3.7.10"
  }
 },
 "nbformat": 4,
 "nbformat_minor": 5
}
