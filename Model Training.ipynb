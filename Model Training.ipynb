{
 "cells": [
  {
   "cell_type": "code",
   "execution_count": 39,
   "id": "0cbde67c-1b0f-401b-8733-2e784848a5f9",
   "metadata": {
    "tags": []
   },
   "outputs": [],
   "source": [
    "import os\n",
    "import json \n",
    "import logging\n",
    "from datetime import datetime\n",
    "\n",
    "import boto3\n",
    "import sagemaker\n",
    "from sagemaker import get_execution_role\n",
    "from sagemaker.amazon.amazon_estimator import get_image_uri # get the Docker image which contains the image classif agorithm"
   ]
  },
  {
   "cell_type": "code",
   "execution_count": 40,
   "id": "8d6b62bd-e9ee-4b70-93b6-e27e91f15614",
   "metadata": {
    "tags": []
   },
   "outputs": [],
   "source": [
    "boto3.set_stream_logger(name=\"botocore.credentials\", level=logging.WARNING)"
   ]
  },
  {
   "cell_type": "code",
   "execution_count": 41,
   "id": "2d1c8c54-aee2-4e9b-bc94-0dd94bbe150b",
   "metadata": {
    "tags": []
   },
   "outputs": [],
   "source": [
    "session = sagemaker.Session()\n",
    "region = session.boto_region_name"
   ]
  },
  {
   "cell_type": "code",
   "execution_count": 42,
   "id": "5f1d3b2a-db39-42e2-a37c-8a5e2ea84592",
   "metadata": {
    "tags": []
   },
   "outputs": [],
   "source": [
    "arn_role = sagemaker.get_execution_role()"
   ]
  },
  {
   "cell_type": "code",
   "execution_count": 43,
   "id": "53cdd90e-4e14-45d1-b3b5-a529a33f77d5",
   "metadata": {
    "tags": []
   },
   "outputs": [],
   "source": [
    "bucket_name = \"smart-factory-sagemaker\"\n",
    "data_path = \"stock-inference\""
   ]
  },
  {
   "cell_type": "code",
   "execution_count": 44,
   "id": "6f493821-9413-4cd9-a119-c1184053b033",
   "metadata": {
    "tags": []
   },
   "outputs": [],
   "source": [
    "nclasses = 3\n",
    "nimgs_train = 16\n",
    "nepochs = 100\n",
    "mini_batch_size = 6"
   ]
  },
  {
   "cell_type": "code",
   "execution_count": 45,
   "id": "d30b9645-a719-4246-8ac6-acf7719dc6fe",
   "metadata": {
    "tags": []
   },
   "outputs": [],
   "source": [
    "train_instance = \"ml.g4dn.xlarge\"\n",
    "job_name_prefix = \"smart-factory-wh-stock-inference\""
   ]
  },
  {
   "cell_type": "code",
   "execution_count": 46,
   "id": "6733c582",
   "metadata": {
    "tags": []
   },
   "outputs": [
    {
     "name": "stderr",
     "output_type": "stream",
     "text": [
      "INFO:sagemaker.image_uris:Defaulting to the only supported framework/algorithm version: 1.\n",
      "INFO:sagemaker.image_uris:Ignoring unnecessary instance type: None.\n"
     ]
    }
   ],
   "source": [
    "train_image_uri = sagemaker.image_uris.retrieve(\n",
    "    #### TRY HUGGING FACE AFTER ###\n",
    "    ## IF THE FRAMEWORK IS 3RD PARTY. THE IMAGE SCOPE IS DIFFERENT FOR TRAINING AND INFERENCE ##\n",
    "    framework=\"image-classification\",\n",
    "    region=region,\n",
    "    image_scope=\"training\"\n",
    ")"
   ]
  },
  {
   "cell_type": "code",
   "execution_count": 47,
   "id": "e70dc318",
   "metadata": {
    "tags": []
   },
   "outputs": [],
   "source": [
    "s3_output_path = \"s3://{}/{}/{}\".format(bucket_name, data_path, \"model_output\")"
   ]
  },
  {
   "cell_type": "code",
   "execution_count": 48,
   "id": "e43a0d22",
   "metadata": {
    "tags": []
   },
   "outputs": [],
   "source": [
    "clf_estimator = sagemaker.estimator.Estimator(\n",
    "    image_uri=train_image_uri,\n",
    "    role=arn_role,\n",
    "    instance_count=1,\n",
    "    instance_type=train_instance,\n",
    "    volume_size=30,\n",
    "    max_run=3600,\n",
    "    input_mode=\"File\",\n",
    "    output_path=s3_output_path,\n",
    "    sagemaker_session=session\n",
    ")"
   ]
  },
  {
   "cell_type": "code",
   "execution_count": 49,
   "id": "ec0f7be5",
   "metadata": {
    "tags": []
   },
   "outputs": [],
   "source": [
    "clf_estimator.set_hyperparameters(\n",
    "    num_classes=nclasses,\n",
    "    epochs=nepochs,\n",
    "    image_shape=\"3,240,320\",    \n",
    "    num_training_samples=nimgs_train,\n",
    "    mini_batch_size=nimgs_train,\n",
    "    num_layers=18,\n",
    "    use_pretrained_model=1,\n",
    "    multi_label=1\n",
    ")"
   ]
  },
  {
   "cell_type": "code",
   "execution_count": 50,
   "id": "b162df16",
   "metadata": {
    "tags": []
   },
   "outputs": [],
   "source": [
    "s3_training_imgs = \"s3://{}/{}/{}\".format(bucket_name, data_path, \"train_imgs\")\n",
    "s3_valid_imgs = \"s3://{}/{}/{}\".format(bucket_name, data_path, \"valid_imgs\")\n",
    "s3_training_annot = \"s3://{}/{}/{}\".format(bucket_name, data_path, \"train_annots\")\n",
    "s3_valid_annot = \"s3://{}/{}/{}\".format(bucket_name, data_path, \"valid_annots\")\n"
   ]
  },
  {
   "cell_type": "code",
   "execution_count": 51,
   "id": "7c7c2974",
   "metadata": {
    "tags": []
   },
   "outputs": [],
   "source": [
    "train_imgs = sagemaker.inputs.TrainingInput(\n",
    "    s3_training_imgs,\n",
    "    distribution=\"FullyReplicated\",\n",
    "    content_type=\"application/jpeg\",\n",
    "    s3_data_type=\"S3Prefix\"\n",
    ")\n",
    "\n",
    "valid_imgs = sagemaker.inputs.TrainingInput(\n",
    "    s3_valid_imgs,\n",
    "    distribution=\"FullyReplicated\",\n",
    "    content_type=\"application/jpeg\",\n",
    "    s3_data_type=\"S3Prefix\"\n",
    ")\n",
    "\n",
    "train_annot = sagemaker.inputs.TrainingInput(\n",
    "    s3_training_annot,\n",
    "    distribution=\"FullyReplicated\",\n",
    "    content_type=\"application/jpeg\",\n",
    "    s3_data_type=\"S3Prefix\"\n",
    ")\n",
    "\n",
    "valid_annot = sagemaker.inputs.TrainingInput(\n",
    "    s3_valid_annot,\n",
    "    distribution=\"FullyReplicated\",\n",
    "    content_type=\"application/jpeg\",\n",
    "    s3_data_type=\"S3Prefix\"\n",
    ")\n",
    "\n",
    "\n",
    "data_channels = {\n",
    "    \"train\": train_imgs,\n",
    "    \"validation\": valid_imgs,\n",
    "    \"train_lst\": train_annot,\n",
    "    \"validation_lst\": valid_annot\n",
    "}"
   ]
  },
  {
   "cell_type": "code",
   "execution_count": 52,
   "id": "d6d2af36",
   "metadata": {
    "scrolled": true,
    "tags": []
   },
   "outputs": [
    {
     "name": "stdout",
     "output_type": "stream",
     "text": [
      "smart-factory-wh-stock-inference-2023-05-08-12-01-34\n"
     ]
    }
   ],
   "source": [
    "timestamp = (\n",
    "    str(datetime.now().replace(microsecond=0)).replace(\" \", \"-\").replace(\":\", \"-\")\n",
    ")\n",
    "job_name = job_name_prefix + \"-\" +timestamp\n",
    "print(job_name)\n",
    "\n",
    "\n",
    "# Run the line below to train the model: \n",
    "# clf_estimator.fit(inputs=data_channels, logs=True, job_name=job_name)"
   ]
  },
  {
   "cell_type": "code",
   "execution_count": null,
   "id": "83c86d69",
   "metadata": {},
   "outputs": [],
   "source": []
  },
  {
   "cell_type": "code",
   "execution_count": 150,
   "id": "4aefd56f",
   "metadata": {},
   "outputs": [],
   "source": [
    "infer_instance_type = \"ml.t2.medium\"\n",
    "model_name = job_name\n",
    "endpoint_name = \"smart-factory-wh-stock-inference\""
   ]
  },
  {
   "cell_type": "code",
   "execution_count": 151,
   "id": "061231c8",
   "metadata": {},
   "outputs": [
    {
     "name": "stderr",
     "output_type": "stream",
     "text": [
      "INFO:sagemaker:Creating model with name: smart-factory-wh-stock-inference-2023-05-07-14-51-38\n",
      "WARNING:sagemaker:Using already existing model: smart-factory-wh-stock-inference-2023-05-07-14-51-38\n",
      "INFO:sagemaker:Creating endpoint-config with name smart-factory-wh-stock-inference\n",
      "INFO:sagemaker:Creating endpoint with name smart-factory-wh-stock-inference\n"
     ]
    },
    {
     "name": "stdout",
     "output_type": "stream",
     "text": [
      "-----------------------!"
     ]
    }
   ],
   "source": [
    "clf_predictor = clf_estimator.deploy(\n",
    "    initial_instance_count=1,\n",
    "    instance_type=infer_instance_type,\n",
    "    endpoint_name=endpoint_name,\n",
    "    model_name=model_name\n",
    ")"
   ]
  },
  {
   "cell_type": "code",
   "execution_count": null,
   "id": "8b75a90d",
   "metadata": {},
   "outputs": [],
   "source": []
  },
  {
   "cell_type": "code",
   "execution_count": null,
   "id": "0c4e0bda",
   "metadata": {},
   "outputs": [],
   "source": [
    "sgmkr_runtime = boto3.client(\"runtime.sagemaker\")"
   ]
  }
 ],
 "metadata": {
  "kernelspec": {
   "display_name": "conda_amazonei_pytorch_latest_p37",
   "language": "python",
   "name": "conda_amazonei_pytorch_latest_p37"
  },
  "language_info": {
   "codemirror_mode": {
    "name": "ipython",
    "version": 3
   },
   "file_extension": ".py",
   "mimetype": "text/x-python",
   "name": "python",
   "nbconvert_exporter": "python",
   "pygments_lexer": "ipython3",
   "version": "3.7.10"
  }
 },
 "nbformat": 4,
 "nbformat_minor": 5
}
